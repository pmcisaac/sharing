{
 "metadata": {
  "name": "",
  "signature": "sha256:9ab70e5468c1ff553a5891ed894b61374e4a98e1cebd679b3a6e38e902efeb14"
 },
 "nbformat": 3,
 "nbformat_minor": 0,
 "worksheets": [
  {
   "cells": [
    {
     "cell_type": "code",
     "collapsed": false,
     "input": [
      "# python\n",
      "import os;\n",
      "import json;\n",
      "import re;\n",
      "from glob import glob;\n",
      "\n",
      "# logging\n",
      "import logging\n",
      "logging.basicConfig(format='%(asctime)s : %(levelname)s : %(message)s', level=logging.INFO)\n",
      "logger = logging.getLogger()\n",
      "logger.setLevel(logging.INFO) # for python3\n",
      "\n",
      "# analysis\n",
      "import gensim;\n",
      "from collections import Counter\n",
      "from operator import itemgetter #for sorting the Counter\n",
      "from pandas import DataFrame\n",
      "import pandas as pd\n",
      "\n",
      "# visualization tools\n",
      "import seaborn as sns\n",
      "import numpy as np\n",
      "import matplotlib.pylab as plt\n",
      "import matplotlib.dates as mdates\n",
      "%matplotlib inline\n",
      "sns.set_context(\"poster\")"
     ],
     "language": "python",
     "metadata": {},
     "outputs": [
      {
       "output_type": "stream",
       "stream": "stderr",
       "text": [
        "INFO:gensim.utils:detected Windows; aliasing chunkize to chunkize_serial\n"
       ]
      }
     ],
     "prompt_number": 1
    },
    {
     "cell_type": "markdown",
     "metadata": {},
     "source": [
      "> *Ben's Note:* This document is based on a series of exploratory notebooks developed during the summer of 2014 by Matt Burton."
     ]
    },
    {
     "cell_type": "heading",
     "level": 1,
     "metadata": {},
     "source": [
      "DHGP-Demo"
     ]
    },
    {
     "cell_type": "markdown",
     "metadata": {},
     "source": [
      "This notebook is a self-contained introduction to our project and the types of analysis we are interested in. \n",
      "\n",
      "> *Ben's Note:* Much of the code here has been taken out of its proper context and modified further for demonstrations, and therefore is probably not ideal \"production\" code."
     ]
    },
    {
     "cell_type": "heading",
     "level": 2,
     "metadata": {},
     "source": [
      "Table of Contents"
     ]
    },
    {
     "cell_type": "markdown",
     "metadata": {},
     "source": [
      "1. [Reading the Corpus](#Reading-the-Corpus)\n",
      "  - [Corpus Queries](#Corpus-Queries)\n",
      "2. [Training a Topic Model](#Training-a-Topic-Model)\n",
      "  - [Training](#Training)\n",
      "  - [Printing Topics](#Printing-Topics)\n",
      "  - [Getting Document Topic Mixtures](#Getting-Document-Topic-Mixtures)\n",
      "3. [Visualizing Topic Models](#Visualizing-Topic-Models)"
     ]
    },
    {
     "cell_type": "heading",
     "level": 2,
     "metadata": {},
     "source": [
      "Dependencies"
     ]
    },
    {
     "cell_type": "markdown",
     "metadata": {},
     "source": [
      "This notebook requires Python 3.3+ and a recent version of the following libraries, which can be installed on Mac/Linux via `pip` or on Windows from [precompiled binaries](http://www.lfd.uci.edu/~gohlke/pythonlibs/).\n",
      "- gensim\n",
      "- numpy\n",
      "- pandas\n",
      "- seaborn\n",
      "- matplotlib"
     ]
    },
    {
     "cell_type": "heading",
     "level": 2,
     "metadata": {},
     "source": [
      "Setup"
     ]
    },
    {
     "cell_type": "markdown",
     "metadata": {},
     "source": [
      "A small subset of our corpus and a German stopword list can be found in the `/data/` directory:"
     ]
    },
    {
     "cell_type": "code",
     "collapsed": false,
     "input": [
      "json_corpus = os.path.join(\"data\", \"corpus_json\");\n",
      "stoplist_path = os.path.join(\"data\", \"de_stoplist_ascii_peter.txt\");"
     ],
     "language": "python",
     "metadata": {},
     "outputs": [],
     "prompt_number": 2
    },
    {
     "cell_type": "heading",
     "level": 1,
     "metadata": {},
     "source": [
      "Reading the Corpus"
     ]
    },
    {
     "cell_type": "markdown",
     "metadata": {},
     "source": [
      "The corpus exists as a bunch of `.json` files in the `data/corpus_json/json` directory, which include the full text of a chapter as well as the relevant metadata.  We can use Python generators to easily iterate over the corpus, only loading documents as needed:  "
     ]
    },
    {
     "cell_type": "code",
     "collapsed": false,
     "input": [
      "def tokenizer(text):\n",
      "    # split document at nonwords\n",
      "    return re.split(\"[\\W]*\", text.lower());\n",
      "\n",
      "class JSONIterator(object):\n",
      "    \"\"\"\n",
      "    Supports iteration over documents converted to dictionaries from\n",
      "    JSON files.\n",
      "    \"\"\"\n",
      "    def __init__(self, json_dir):\n",
      "        # store a list of JSON files\n",
      "        self.json_dir = os.path.join(json_dir, \"json\");\n",
      "        self.json_paths = glob(os.path.join(self.json_dir,\"*.json\"));\n",
      "    def __iter__(self):\n",
      "        for path in self.json_paths:\n",
      "            with open(path) as f:\n",
      "                yield json.loads(f.read());\n",
      "    def __getitem__(self, k):\n",
      "        with open(self.json_paths[k]) as f:\n",
      "            return json.loads(f.read());\n",
      "    def __len__(self):\n",
      "        return len(self.json_paths);\n",
      "\n",
      "class TokenIterator(object):\n",
      "    \"\"\"\n",
      "    Supports iteration over tokenized documents.\n",
      "    \"\"\"\n",
      "    def __init__(self, jsonIterator):\n",
      "        self.jsonIterator = jsonIterator;\n",
      "    def __iter__(self):\n",
      "        for doc in self.jsonIterator:\n",
      "            yield tokenizer(doc[\"text\"]);\n",
      "    def __getitem__(self, k):\n",
      "        return tokenizer(self.jsonIterator[k][\"text\"]);\n",
      "    def __len__(self):\n",
      "        return len(self.jsonIterator);\n",
      "        \n",
      "\n",
      "class DHGPCorpus(object):\n",
      "    \"\"\"\n",
      "    Supports iteration over documents in a bag-of-words format.\n",
      "    \"\"\"\n",
      "    def __init__(self, json_dir, stoplist_path):\n",
      "        self.jsonIterator = JSONIterator(json_dir);\n",
      "        self.tokenIterator = TokenIterator(self.jsonIterator);\n",
      "        \n",
      "        # build the dictionary\n",
      "        self.dictionary = gensim.corpora.Dictionary(self.tokenIterator);\n",
      "        \n",
      "        # filter stopwords\n",
      "        if stoplist_path:\n",
      "            stoplist = open(stoplist_path).read().lower().split(\"\\n\");\n",
      "            stop_ids = [self.dictionary.token2id[stop] for stop \\\n",
      "                        in stoplist if stop in self.dictionary.token2id];\n",
      "            self.dictionary.filter_tokens(stop_ids);\n",
      "            self.dictionary.compactify();\n",
      "        \n",
      "        # remove low- and high- frequency tokens\n",
      "        self.dictionary.filter_extremes(no_above=0.8, no_below=5);\n",
      "        self.dictionary.compactify();\n",
      "    \n",
      "    def __iter__(self):\n",
      "        for doc in self.tokenIterator:\n",
      "            yield self.dictionary.doc2bow(doc);\n",
      "    \n",
      "    def __getitem__(self, k):\n",
      "        return self.dictionary.doc2bow(self.tokenIterator[k]);\n",
      "    \n",
      "    def __len__(self):\n",
      "        return len(self.tokenIterator);"
     ],
     "language": "python",
     "metadata": {},
     "outputs": [],
     "prompt_number": 3
    },
    {
     "cell_type": "markdown",
     "metadata": {},
     "source": [
      "So far we have created an object to contain the contents of the DHGP corpus. While the details of the object can be gleaned from the code above, I want to describe what is happening in plain english when I instantiate a DHGPCorpus object (below).\n",
      "\n",
      "Creating a `DHGPCorpus` object requires two parameters:\n",
      "- A path to the directory containing documents as `.json` files\n",
      "- A path to a stoplist file\n",
      "\n",
      "The initialization function, `__init__()` iterates over each document in the directory and builds a [Gensim Dictionary](http://radimrehurek.com/gensim/corpora/dictionary.html) object. The dictionary takes a tokenized documents and creates a mapping between word tokens and their integer ids. While iterating over each document to build the dictionary, we store the document in its un-adulterated state is saved as well.\n",
      "\n",
      "Once the dictionary is populated with word tokens from every document in the corpus, we remove stopwords as given in the file located at `stoplist_path.`  Because the dictionary holds word frequences for the entire corpus, we can use functions like `filter_extremes()` to remove words that don't occur too frequently or not frequently enough. The filter extremes function is parameterized so we can tune the settings. Right now we are removing words that appear in less than 5 documents. "
     ]
    },
    {
     "cell_type": "code",
     "collapsed": false,
     "input": [
      "corpus = DHGPCorpus(json_corpus, stoplist_path);"
     ],
     "language": "python",
     "metadata": {},
     "outputs": [
      {
       "output_type": "stream",
       "stream": "stderr",
       "text": [
        "INFO:gensim.corpora.dictionary:adding document #0 to Dictionary(0 unique tokens: [])\n"
       ]
      },
      {
       "output_type": "stream",
       "stream": "stderr",
       "text": [
        "INFO:gensim.corpora.dictionary:built Dictionary(69120 unique tokens: ['', 'hineinsteckte', 'einmischung', 'gauteiners', 'luftfechter']...) from 94 documents (total 738118 corpus positions)\n"
       ]
      },
      {
       "output_type": "stream",
       "stream": "stderr",
       "text": [
        "INFO:gensim.corpora.dictionary:discarding 59287 tokens: [('hineinsteckte', 1), ('gauteiners', 1), ('luftfechter', 1), ('mofer', 1), ('reichsadler', 1), ('umgangen', 3), ('befruchten', 1), ('idealische', 4), ('hundsmuede', 1), ('elends', 2)]...\n"
       ]
      },
      {
       "output_type": "stream",
       "stream": "stderr",
       "text": [
        "INFO:gensim.corpora.dictionary:keeping 9376 tokens which were in no less than 5 and no more than 75 (=80.0%) documents\n"
       ]
      },
      {
       "output_type": "stream",
       "stream": "stderr",
       "text": [
        "INFO:gensim.corpora.dictionary:resulting dictionary: Dictionary(9376 unique tokens: ['dringenden', 'einmischung', 'wonne', 'blute', 'brueder']...)\n"
       ]
      }
     ],
     "prompt_number": 4
    },
    {
     "cell_type": "heading",
     "level": 2,
     "metadata": {},
     "source": [
      "Corpus Queries"
     ]
    },
    {
     "cell_type": "markdown",
     "metadata": {},
     "source": [
      "We are now in a position to interrogate the corpus, limited only by our computing power, our python scripting abilities, and our imagination.  For starters, we can ask some very simple questions:\n",
      "\n",
      "*How many documents are in the corpus?*"
     ]
    },
    {
     "cell_type": "code",
     "collapsed": false,
     "input": [
      "print(\"There are {} documents in the corpus.\".format(len(corpus)))"
     ],
     "language": "python",
     "metadata": {},
     "outputs": [
      {
       "output_type": "stream",
       "stream": "stdout",
       "text": [
        "There are 94 documents in the corpus.\n"
       ]
      }
     ],
     "prompt_number": 5
    },
    {
     "cell_type": "markdown",
     "metadata": {},
     "source": [
      "*In what year was the first document published?*"
     ]
    },
    {
     "cell_type": "code",
     "collapsed": false,
     "input": [
      "corpus.jsonIterator[0][\"metadata\"][\"year\"]"
     ],
     "language": "python",
     "metadata": {},
     "outputs": [
      {
       "metadata": {},
       "output_type": "pyout",
       "prompt_number": 6,
       "text": [
        "'1874'"
       ]
      }
     ],
     "prompt_number": 6
    },
    {
     "cell_type": "markdown",
     "metadata": {},
     "source": [
      "We can lookup chapters by their index in the chapter list.  I only show the metadata here because the text and BOW representation are large and clutter the notebook."
     ]
    },
    {
     "cell_type": "code",
     "collapsed": false,
     "input": [
      "corpus.jsonIterator[10][\"metadata\"]"
     ],
     "language": "python",
     "metadata": {},
     "outputs": [
      {
       "metadata": {},
       "output_type": "pyout",
       "prompt_number": 7,
       "text": [
        "{'prefix': 'dr',\n",
        " 'volume_id': 'dr_1875_v.-003',\n",
        " 'volume': 'v.-003',\n",
        " 'year': '1875',\n",
        " 'chapter_id': 'dr_1875_v.-003_02'}"
       ]
      }
     ],
     "prompt_number": 7
    },
    {
     "cell_type": "markdown",
     "metadata": {},
     "source": [
      "Equipped with the corpus+metadata in memory, we can perform some more complex analytical computations. Now that we have the date metadata in an easy to manipulate form we can ask the question:\n",
      "\n",
      "*How many documents were published per year?*"
     ]
    },
    {
     "cell_type": "code",
     "collapsed": false,
     "input": [
      "# using jsonIterator() to get metadata instead of BOW format\n",
      "chapters_per_year = pd.Series([chapter['metadata']['year'] for chapter in corpus.jsonIterator]) \\\n",
      "    .value_counts() \\\n",
      "    .sort_index()\n",
      "chapters_per_year"
     ],
     "language": "python",
     "metadata": {},
     "outputs": [
      {
       "metadata": {},
       "output_type": "pyout",
       "prompt_number": 8,
       "text": [
        "1874     3\n",
        "1875     9\n",
        "1876     8\n",
        "1877     8\n",
        "1878     6\n",
        "1879     5\n",
        "1880     9\n",
        "1881    11\n",
        "1882    15\n",
        "1883     9\n",
        "1884     5\n",
        "1885     6\n",
        "dtype: int64"
       ]
      }
     ],
     "prompt_number": 8
    },
    {
     "cell_type": "markdown",
     "metadata": {},
     "source": [
      "The table above shows the number of chapters per year, but it isn't the most informative representation of the data. Now that we have the data in an easy to manipulate tabular form (using the [pandas](http://pandas.pydata.org/) python library) we can easily create a graph."
     ]
    },
    {
     "cell_type": "code",
     "collapsed": false,
     "input": [
      "# plot chapters_per_year with pandas + seaborn defaults\n",
      "chapters_per_year.plot()\n",
      "plt.show()"
     ],
     "language": "python",
     "metadata": {},
     "outputs": [
      {
       "metadata": {},
       "output_type": "display_data",
       "png": "[encoded data removed]",
       "text": [
        "<matplotlib.figure.Figure at 0x933e9b0>"
       ]
      }
     ],
     "prompt_number": 9
    },
    {
     "cell_type": "markdown",
     "metadata": {},
     "source": [
      "> *Ben's Note:* Remember that we're working with a subset of the corpus!  This chart isn't at all representative of the true distribution of documents over time."
     ]
    },
    {
     "cell_type": "markdown",
     "metadata": {},
     "source": [
      "The IPython Notebook provides a nice way to integrate prosaic narrative with data, code and visualization. Everything becomes portable, self-contained, and interactive. These graphs are statically embedded in the Notebook so these representation of the data can be seen even without running in a live IPython environment. However, if I share this notebook, the underlying pythonic datastructures would be lost. Re-executing the cells in the Notebook would recover the data."
     ]
    },
    {
     "cell_type": "heading",
     "level": 1,
     "metadata": {},
     "source": [
      "Training a Topic Model"
     ]
    },
    {
     "cell_type": "markdown",
     "metadata": {},
     "source": [
      "This section executes a process that trains a topic model using the [gensim](http://radimrehurek.com/gensim/) implementation of **Online Variational Latent Dirichlet Allocation**.  \n",
      "\n",
      "We can define the model parameters in a single cell for future use:"
     ]
    },
    {
     "cell_type": "code",
     "collapsed": false,
     "input": [
      "num_topics = 15; # number of topics to infer\n",
      "passes = 10;     # number of passes over the corpus"
     ],
     "language": "python",
     "metadata": {},
     "outputs": [],
     "prompt_number": 10
    },
    {
     "cell_type": "heading",
     "level": 2,
     "metadata": {},
     "source": [
      "Training"
     ]
    },
    {
     "cell_type": "markdown",
     "metadata": {},
     "source": [
      "Model inference is done using [`gensim.models.LdaModel`](http://radimrehurek.com/gensim/models/ldamodel.html), and requires:\n",
      "- The corpus, in a bag-of-words format.\n",
      "- An `id2word` mapping word ids to words.\n",
      "\n",
      "Our `DHGPCorpus` supplies both of these!  We can now infer a topic model.  This may take a while, but we have `logging` enabled, so we'll see periodic progress reports as the model is trained."
     ]
    },
    {
     "cell_type": "code",
     "collapsed": false,
     "input": [
      "lda = gensim.models.LdaModel(corpus, id2word=corpus.dictionary,\n",
      "                             num_topics=num_topics, passes=passes);"
     ],
     "language": "python",
     "metadata": {},
     "outputs": [
      {
       "output_type": "stream",
       "stream": "stderr",
       "text": [
        "INFO:gensim.models.ldamodel:using symmetric alpha at 0.06666666666666667\n"
       ]
      },
      {
       "output_type": "stream",
       "stream": "stderr",
       "text": [
        "INFO:gensim.models.ldamodel:using serial LDA version on this node\n"
       ]
      },
      {
       "output_type": "stream",
       "stream": "stderr",
       "text": [
        "INFO:gensim.models.ldamodel:running online LDA training, 15 topics, 10 passes over the supplied corpus of 94 documents, updating model once every 94 documents, evaluating perplexity every 94 documents, iterating 50x with a convergence threshold of 0.001000\n"
       ]
      },
      {
       "output_type": "stream",
       "stream": "stderr",
       "text": [
        "INFO:gensim.models.ldamodel:-10.528 per-word bound, 1477.0 perplexity estimate based on a held-out corpus of 94 documents with 242263 words\n"
       ]
      },
      {
       "output_type": "stream",
       "stream": "stderr",
       "text": [
        "INFO:gensim.models.ldamodel:PROGRESS: pass 0, at document #94/94\n"
       ]
      },
      {
       "output_type": "stream",
       "stream": "stderr",
       "text": [
        "INFO:gensim.models.ldamodel:topic #0 (0.067): 0.003*deutschen + 0.002*goethe + 0.002*welt + 0.002*macht + 0.002*menschen + 0.002*will + 0.002*regierung + 0.002*faust + 0.001*wurden + 0.001*wollte\n"
       ]
      },
      {
       "output_type": "stream",
       "stream": "stderr",
       "text": [
        "INFO:gensim.models.ldamodel:topic #1 (0.067): 0.002*will + 0.002*england + 0.002*welt + 0.002*geschichte + 0.002*deutschen + 0.002*wurden + 0.001*dichter + 0.001*stand + 0.001*also + 0.001*dazu\n"
       ]
      },
      {
       "output_type": "stream",
       "stream": "stderr",
       "text": [
        "INFO:gensim.models.ldamodel:topic #2 (0.067): 0.002*welt + 0.002*england + 0.002*deutschen + 0.002*musste + 0.002*augen + 0.002*wurden + 0.002*macht + 0.001*dazu + 0.001*kam + 0.001*will\n"
       ]
      },
      {
       "output_type": "stream",
       "stream": "stderr",
       "text": [
        "INFO:gensim.models.ldamodel:topic #3 (0.067): 0.002*dichter + 0.002*deutschen + 0.002*welt + 0.002*will + 0.002*augen + 0.002*wurden + 0.002*macht + 0.002*wollte + 0.001*frau + 0.001*england\n"
       ]
      },
      {
       "output_type": "stream",
       "stream": "stderr",
       "text": [
        "INFO:gensim.models.ldamodel:topic #4 (0.067): 0.002*deutschen + 0.002*dichter + 0.002*welt + 0.002*geschichte + 0.002*russland + 0.001*dazu + 0.001*england + 0.001*bald + 0.001*wurden + 0.001*wollte\n"
       ]
      },
      {
       "output_type": "stream",
       "stream": "stderr",
       "text": [
        "INFO:gensim.models.ldamodel:topic #5 (0.067): 0.002*dichter + 0.002*welt + 0.002*wurden + 0.002*deutschen + 0.002*einzelnen + 0.002*bald + 0.001*dazu + 0.001*kam + 0.001*goethe + 0.001*geschichte\n"
       ]
      },
      {
       "output_type": "stream",
       "stream": "stderr",
       "text": [
        "INFO:gensim.models.ldamodel:topic #6 (0.067): 0.002*will + 0.002*dichter + 0.002*menschen + 0.002*augen + 0.002*welt + 0.002*goethe + 0.002*macht + 0.002*wollte + 0.002*bald + 0.002*ging\n"
       ]
      },
      {
       "output_type": "stream",
       "stream": "stderr",
       "text": [
        "INFO:gensim.models.ldamodel:topic #7 (0.067): 0.002*deutschen + 0.002*dichter + 0.002*welt + 0.002*will + 0.002*england + 0.002*augen + 0.002*dazu + 0.002*wollte + 0.002*ging + 0.002*russland\n"
       ]
      },
      {
       "output_type": "stream",
       "stream": "stderr",
       "text": [
        "INFO:gensim.models.ldamodel:topic #8 (0.067): 0.002*wurden + 0.002*menschen + 0.002*deutschen + 0.002*will + 0.002*welt + 0.002*gegenueber + 0.002*bald + 0.001*geschichte + 0.001*dazu + 0.001*liess\n"
       ]
      },
      {
       "output_type": "stream",
       "stream": "stderr",
       "text": [
        "INFO:gensim.models.ldamodel:topic #9 (0.067): 0.002*deutschen + 0.002*dichter + 0.002*geschichte + 0.002*will + 0.002*wurden + 0.002*kam + 0.002*oesterreich + 0.001*welt + 0.001*russland + 0.001*indem\n"
       ]
      },
      {
       "output_type": "stream",
       "stream": "stderr",
       "text": [
        "INFO:gensim.models.ldamodel:topic #10 (0.067): 0.002*kam + 0.002*deutschen + 0.002*will + 0.002*welt + 0.002*augen + 0.001*ging + 0.001*wurden + 0.001*indem + 0.001*dichter + 0.001*kraft\n"
       ]
      },
      {
       "output_type": "stream",
       "stream": "stderr",
       "text": [
        "INFO:gensim.models.ldamodel:topic #11 (0.067): 0.002*deutschen + 0.002*dichter + 0.002*frau + 0.002*wollte + 0.002*geschichte + 0.002*welt + 0.002*bald + 0.001*will + 0.001*menschen + 0.001*goethe\n"
       ]
      },
      {
       "output_type": "stream",
       "stream": "stderr",
       "text": [
        "INFO:gensim.models.ldamodel:topic #12 (0.067): 0.002*dichter + 0.002*macht + 0.002*wollte + 0.002*bald + 0.002*deutschen + 0.002*ging + 0.002*will + 0.002*wurden + 0.002*frankreich + 0.002*regierung\n"
       ]
      },
      {
       "output_type": "stream",
       "stream": "stderr",
       "text": [
        "INFO:gensim.models.ldamodel:topic #13 (0.067): 0.002*dichter + 0.002*welt + 0.002*kam + 0.002*deutschen + 0.002*ging + 0.002*frau + 0.002*bald + 0.002*weiss + 0.001*damals + 0.001*menschen\n"
       ]
      },
      {
       "output_type": "stream",
       "stream": "stderr",
       "text": [
        "INFO:gensim.models.ldamodel:topic #14 (0.067): 0.002*deutschen + 0.002*dichter + 0.002*macht + 0.002*musste + 0.002*will + 0.002*weiss + 0.002*welt + 0.002*russland + 0.001*england + 0.001*frau\n"
       ]
      },
      {
       "output_type": "stream",
       "stream": "stderr",
       "text": [
        "INFO:gensim.models.ldamodel:topic diff=1.250880, rho=1.000000\n"
       ]
      },
      {
       "output_type": "stream",
       "stream": "stderr",
       "text": [
        "INFO:gensim.models.ldamodel:-9.637 per-word bound, 796.4 perplexity estimate based on a held-out corpus of 94 documents with 242263 words\n"
       ]
      },
      {
       "output_type": "stream",
       "stream": "stderr",
       "text": [
        "INFO:gensim.models.ldamodel:PROGRESS: pass 1, at document #94/94\n"
       ]
      },
      {
       "output_type": "stream",
       "stream": "stderr",
       "text": [
        "INFO:gensim.models.ldamodel:topic #0 (0.067): 0.009*lessing + 0.005*faust + 0.004*deutschen + 0.004*goethe + 0.002*macht + 0.002*voltaire + 0.002*geschichte + 0.002*will + 0.002*russland + 0.002*berlin\n"
       ]
      },
      {
       "output_type": "stream",
       "stream": "stderr",
       "text": [
        "INFO:gensim.models.ldamodel:topic #1 (0.067): 0.006*horaz + 0.003*england + 0.003*liebe + 0.002*wurden + 0.002*minister + 0.002*regierung + 0.002*lord + 0.002*lied + 0.002*will + 0.002*belgien\n"
       ]
      },
      {
       "output_type": "stream",
       "stream": "stderr",
       "text": [
        "INFO:gensim.models.ldamodel:topic #2 (0.067): 0.007*russland + 0.006*pforte + 0.006*oesterreich + 0.005*kaiserin + 0.004*england + 0.003*preussen + 0.003*frieden + 0.003*russischen + 0.003*russlands + 0.003*krieg\n"
       ]
      },
      {
       "output_type": "stream",
       "stream": "stderr",
       "text": [
        "INFO:gensim.models.ldamodel:topic #3 (0.067): 0.002*atlas + 0.002*deutschen + 0.002*dichter + 0.002*armee + 0.002*wurden + 0.002*frankreich + 0.002*welt + 0.002*macht + 0.002*england + 0.001*stand\n"
       ]
      },
      {
       "output_type": "stream",
       "stream": "stderr",
       "text": [
        "INFO:gensim.models.ldamodel:topic #4 (0.067): 0.005*auerbach + 0.003*feuer + 0.003*deutschen + 0.002*menschen + 0.002*geschichte + 0.002*welt + 0.002*dichter + 0.002*dazu + 0.002*berlin + 0.002*mensch\n"
       ]
      },
      {
       "output_type": "stream",
       "stream": "stderr",
       "text": [
        "INFO:gensim.models.ldamodel:topic #5 (0.067): 0.002*dichter + 0.002*einzelnen + 0.002*deutschen + 0.002*welt + 0.002*wurden + 0.002*geschichte + 0.002*weniger + 0.002*also + 0.002*gibt + 0.002*natur\n"
       ]
      },
      {
       "output_type": "stream",
       "stream": "stderr",
       "text": [
        "INFO:gensim.models.ldamodel:topic #6 (0.067): 0.003*augen + 0.003*dichter + 0.003*will + 0.002*menschen + 0.002*mutter + 0.002*kind + 0.002*welt + 0.002*ging + 0.002*frau + 0.002*alte\n"
       ]
      },
      {
       "output_type": "stream",
       "stream": "stderr",
       "text": [
        "INFO:gensim.models.ldamodel:topic #7 (0.067): 0.006*reuter + 0.003*vater + 0.003*kam + 0.003*ward + 0.003*ging + 0.003*russland + 0.003*hugo + 0.003*liess + 0.003*england + 0.002*wurden\n"
       ]
      },
      {
       "output_type": "stream",
       "stream": "stderr",
       "text": [
        "INFO:gensim.models.ldamodel:topic #8 (0.067): 0.003*vater + 0.003*wurden + 0.002*general + 0.002*de + 0.002*bald + 0.002*beim + 0.002*nahm + 0.002*stadt + 0.002*kleinen + 0.002*vollstaendig\n"
       ]
      },
      {
       "output_type": "stream",
       "stream": "stderr",
       "text": [
        "INFO:gensim.models.ldamodel:topic #9 (0.067): 0.007*pforte + 0.006*russland + 0.004*oesterreich + 0.003*frankreich + 0.003*krieg + 0.003*kaiser + 0.003*et + 0.003*indem + 0.002*england + 0.002*tuerkei\n"
       ]
      },
      {
       "output_type": "stream",
       "stream": "stderr",
       "text": [
        "INFO:gensim.models.ldamodel:topic #10 (0.067): 0.003*oesterreich + 0.002*regierung + 0.002*kam + 0.002*musste + 0.002*wien + 0.002*stellung + 0.002*bereits + 0.002*gehabt + 0.002*sache + 0.002*frankreich\n"
       ]
      },
      {
       "output_type": "stream",
       "stream": "stderr",
       "text": [
        "INFO:gensim.models.ldamodel:topic #11 (0.067): 0.003*schiller + 0.002*deutschen + 0.001*dichter + 0.001*herzog + 0.001*menschen + 0.001*ihres + 0.001*meiner + 0.001*edler + 0.001*geschichte + 0.001*einige\n"
       ]
      },
      {
       "output_type": "stream",
       "stream": "stderr",
       "text": [
        "INFO:gensim.models.ldamodel:topic #12 (0.067): 0.004*kirche + 0.003*regierung + 0.003*kaiser + 0.003*deutschen + 0.002*frankreich + 0.002*deutschland + 0.002*wurden + 0.002*geschichte + 0.002*macht + 0.002*frage\n"
       ]
      },
      {
       "output_type": "stream",
       "stream": "stderr",
       "text": [
        "INFO:gensim.models.ldamodel:topic #13 (0.067): 0.007*shakespeare + 0.006*publicum + 0.004*lear + 0.003*theater + 0.003*scenen + 0.003*lustspiel + 0.003*stueck + 0.003*stuecke + 0.003*theorie + 0.002*form\n"
       ]
      },
      {
       "output_type": "stream",
       "stream": "stderr",
       "text": [
        "INFO:gensim.models.ldamodel:topic #14 (0.067): 0.008*schiller + 0.005*russland + 0.004*herzog + 0.004*pforte + 0.003*england + 0.003*deutschen + 0.003*brief + 0.003*briefe + 0.002*meiner + 0.002*krieg\n"
       ]
      },
      {
       "output_type": "stream",
       "stream": "stderr",
       "text": [
        "INFO:gensim.models.ldamodel:topic diff=3.081991, rho=0.977297\n"
       ]
      },
      {
       "output_type": "stream",
       "stream": "stderr",
       "text": [
        "INFO:gensim.models.ldamodel:-9.042 per-word bound, 527.3 perplexity estimate based on a held-out corpus of 94 documents with 242263 words\n"
       ]
      },
      {
       "output_type": "stream",
       "stream": "stderr",
       "text": [
        "INFO:gensim.models.ldamodel:PROGRESS: pass 2, at document #94/94\n"
       ]
      },
      {
       "output_type": "stream",
       "stream": "stderr",
       "text": [
        "INFO:gensim.models.ldamodel:topic #0 (0.067): 0.016*lessing + 0.012*faust + 0.008*goethe + 0.005*deutschen + 0.003*voltaire + 0.003*will + 0.003*macht + 0.003*geschichte + 0.002*dichter + 0.002*literatur\n"
       ]
      },
      {
       "output_type": "stream",
       "stream": "stderr",
       "text": [
        "INFO:gensim.models.ldamodel:topic #1 (0.067): 0.007*horaz + 0.006*england + 0.004*minister + 0.004*lord + 0.004*regierung + 0.004*belgien + 0.003*000 + 0.003*englands + 0.003*liebe + 0.003*general\n"
       ]
      },
      {
       "output_type": "stream",
       "stream": "stderr",
       "text": [
        "INFO:gensim.models.ldamodel:topic #2 (0.067): 0.013*russland + 0.010*pforte + 0.009*oesterreich + 0.007*russischen + 0.006*england + 0.006*kaiserin + 0.005*russlands + 0.005*frieden + 0.005*krieg + 0.005*preussen\n"
       ]
      },
      {
       "output_type": "stream",
       "stream": "stderr",
       "text": [
        "INFO:gensim.models.ldamodel:topic #3 (0.067): 0.004*armee + 0.003*atlas + 0.003*frankreich + 0.003*belgien + 0.003*wurden + 0.002*000 + 0.002*procent + 0.002*franzoesischen + 0.002*holland + 0.002*deutschen\n"
       ]
      },
      {
       "output_type": "stream",
       "stream": "stderr",
       "text": [
        "INFO:gensim.models.ldamodel:topic #4 (0.067): 0.011*auerbach + 0.004*feuer + 0.004*menschen + 0.004*juden + 0.003*deutschen + 0.003*mensch + 0.003*freilich + 0.002*darueber + 0.002*berlin + 0.002*feuers\n"
       ]
      },
      {
       "output_type": "stream",
       "stream": "stderr",
       "text": [
        "INFO:gensim.models.ldamodel:topic #5 (0.067): 0.002*einzelnen + 0.002*dichter + 0.002*deutschen + 0.002*geschichte + 0.002*weniger + 0.002*welt + 0.002*wurden + 0.002*also + 0.002*gibt + 0.002*besonders\n"
       ]
      },
      {
       "output_type": "stream",
       "stream": "stderr",
       "text": [
        "INFO:gensim.models.ldamodel:topic #6 (0.067): 0.003*augen + 0.003*dichter + 0.003*will + 0.003*mutter + 0.003*welt + 0.003*frau + 0.003*menschen + 0.002*alte + 0.002*ging + 0.002*kind\n"
       ]
      },
      {
       "output_type": "stream",
       "stream": "stderr",
       "text": [
        "INFO:gensim.models.ldamodel:topic #7 (0.067): 0.007*reuter + 0.004*vater + 0.004*kam + 0.004*ward + 0.003*ging + 0.003*hugo + 0.003*liess + 0.003*bald + 0.003*verbindung + 0.003*wurden\n"
       ]
      },
      {
       "output_type": "stream",
       "stream": "stderr",
       "text": [
        "INFO:gensim.models.ldamodel:topic #8 (0.067): 0.006*general + 0.004*vater + 0.003*officiere + 0.003*ufer + 0.003*stadt + 0.003*vollstaendig + 0.003*regiment + 0.003*wurden + 0.003*beim + 0.003*leute\n"
       ]
      },
      {
       "output_type": "stream",
       "stream": "stderr",
       "text": [
        "INFO:gensim.models.ldamodel:topic #9 (0.067): 0.001*pforte + 0.001*russland + 0.001*oesterreich + 0.000*frankreich + 0.000*krieg + 0.000*kaiser + 0.000*et + 0.000*indem + 0.000*england + 0.000*tuerkei\n"
       ]
      },
      {
       "output_type": "stream",
       "stream": "stderr",
       "text": [
        "INFO:gensim.models.ldamodel:topic #10 (0.067): 0.005*tante + 0.003*musste + 0.003*oesterreich + 0.003*regierung + 0.003*wien + 0.003*stellung + 0.003*bereits + 0.002*musik + 0.002*oper + 0.002*kam\n"
       ]
      },
      {
       "output_type": "stream",
       "stream": "stderr",
       "text": [
        "INFO:gensim.models.ldamodel:topic #11 (0.067): 0.000*schiller + 0.000*deutschen + 0.000*dichter + 0.000*herzog + 0.000*menschen + 0.000*ihres + 0.000*meiner + 0.000*edler + 0.000*geschichte + 0.000*einige\n"
       ]
      },
      {
       "output_type": "stream",
       "stream": "stderr",
       "text": [
        "INFO:gensim.models.ldamodel:topic #12 (0.067): 0.006*kirche + 0.004*regierung + 0.004*kaiser + 0.003*deutschen + 0.003*deutschland + 0.003*staat + 0.003*frankreich + 0.002*geistlichen + 0.002*wurden + 0.002*belgien\n"
       ]
      },
      {
       "output_type": "stream",
       "stream": "stderr",
       "text": [
        "INFO:gensim.models.ldamodel:topic #13 (0.067): 0.011*shakespeare + 0.008*publicum + 0.006*lear + 0.005*theater + 0.005*scenen + 0.004*lustspiel + 0.004*stueck + 0.004*stuecke + 0.004*theorie + 0.004*form\n"
       ]
      },
      {
       "output_type": "stream",
       "stream": "stderr",
       "text": [
        "INFO:gensim.models.ldamodel:topic #14 (0.067): 0.014*schiller + 0.007*herzog + 0.005*pforte + 0.005*briefe + 0.005*russland + 0.004*brief + 0.004*meiner + 0.003*ew + 0.003*lord + 0.003*deutschen\n"
       ]
      },
      {
       "output_type": "stream",
       "stream": "stderr",
       "text": [
        "INFO:gensim.models.ldamodel:topic diff=3.644831, rho=0.956074\n"
       ]
      },
      {
       "output_type": "stream",
       "stream": "stderr",
       "text": [
        "INFO:gensim.models.ldamodel:-8.799 per-word bound, 445.6 perplexity estimate based on a held-out corpus of 94 documents with 242263 words\n"
       ]
      },
      {
       "output_type": "stream",
       "stream": "stderr",
       "text": [
        "INFO:gensim.models.ldamodel:PROGRESS: pass 3, at document #94/94\n"
       ]
      },
      {
       "output_type": "stream",
       "stream": "stderr",
       "text": [
        "INFO:gensim.models.ldamodel:topic #0 (0.067): 0.016*lessing + 0.016*faust + 0.012*goethe + 0.005*deutschen + 0.004*voltaire + 0.003*dichter + 0.003*will + 0.003*literatur + 0.003*dichtung + 0.003*werk\n"
       ]
      },
      {
       "output_type": "stream",
       "stream": "stderr",
       "text": [
        "INFO:gensim.models.ldamodel:topic #1 (0.067): 0.007*horaz + 0.006*england + 0.005*minister + 0.005*lord + 0.004*regierung + 0.004*belgien + 0.003*englands + 0.003*general + 0.003*000 + 0.003*frankreich\n"
       ]
      },
      {
       "output_type": "stream",
       "stream": "stderr",
       "text": [
        "INFO:gensim.models.ldamodel:topic #2 (0.067): 0.015*russland + 0.010*pforte + 0.009*oesterreich + 0.008*russischen + 0.008*england + 0.006*russlands + 0.006*krieg + 0.005*kaiserin + 0.005*frieden + 0.005*russische\n"
       ]
      },
      {
       "output_type": "stream",
       "stream": "stderr",
       "text": [
        "INFO:gensim.models.ldamodel:topic #3 (0.067): 0.005*armee + 0.004*belgien + 0.003*frankreich + 0.003*atlas + 0.003*wurden + 0.003*000 + 0.002*procent + 0.002*holland + 0.002*roemischen + 0.002*franzoesischen\n"
       ]
      },
      {
       "output_type": "stream",
       "stream": "stderr",
       "text": [
        "INFO:gensim.models.ldamodel:topic #4 (0.067): 0.012*auerbach + 0.005*menschen + 0.004*feuer + 0.004*juden + 0.003*deutschen + 0.003*freilich + 0.003*mensch + 0.003*berlin + 0.003*regierung + 0.002*darueber\n"
       ]
      },
      {
       "output_type": "stream",
       "stream": "stderr",
       "text": [
        "INFO:gensim.models.ldamodel:topic #5 (0.067): 0.003*deutschen + 0.003*einzelnen + 0.002*dichter + 0.002*geschichte + 0.002*weniger + 0.002*welt + 0.002*also + 0.002*wurden + 0.002*gibt + 0.002*verfasser\n"
       ]
      },
      {
       "output_type": "stream",
       "stream": "stderr",
       "text": [
        "INFO:gensim.models.ldamodel:topic #6 (0.067): 0.003*augen + 0.003*dichter + 0.003*mutter + 0.003*will + 0.003*frau + 0.003*welt + 0.003*alte + 0.003*ging + 0.003*menschen + 0.003*kind\n"
       ]
      },
      {
       "output_type": "stream",
       "stream": "stderr",
       "text": [
        "INFO:gensim.models.ldamodel:topic #7 (0.067): 0.008*reuter + 0.004*vater + 0.004*kam + 0.004*ward + 0.004*ging + 0.003*hugo + 0.003*bald + 0.003*liess + 0.003*jungen + 0.003*verbindung\n"
       ]
      },
      {
       "output_type": "stream",
       "stream": "stderr",
       "text": [
        "INFO:gensim.models.ldamodel:topic #8 (0.067): 0.006*general + 0.004*stadt + 0.004*vater + 0.004*regiment + 0.003*officiere + 0.003*vollstaendig + 0.003*ufer + 0.003*wurden + 0.003*meinem + 0.003*beim\n"
       ]
      },
      {
       "output_type": "stream",
       "stream": "stderr",
       "text": [
        "INFO:gensim.models.ldamodel:topic #9 (0.067): 0.000*pforte + 0.000*russland + 0.000*oesterreich + 0.000*frankreich + 0.000*krieg + 0.000*kaiser + 0.000*et + 0.000*indem + 0.000*england + 0.000*tuerkei\n"
       ]
      },
      {
       "output_type": "stream",
       "stream": "stderr",
       "text": [
        "INFO:gensim.models.ldamodel:topic #10 (0.067): 0.006*tante + 0.004*musste + 0.004*oesterreich + 0.003*wien + 0.003*stellung + 0.003*hannover + 0.003*regierung + 0.003*bereits + 0.003*musik + 0.003*oper\n"
       ]
      },
      {
       "output_type": "stream",
       "stream": "stderr",
       "text": [
        "INFO:gensim.models.ldamodel:topic #11 (0.067): 0.000*schiller + 0.000*deutschen + 0.000*dichter + 0.000*herzog + 0.000*menschen + 0.000*ihres + 0.000*meiner + 0.000*edler + 0.000*geschichte + 0.000*einige\n"
       ]
      },
      {
       "output_type": "stream",
       "stream": "stderr",
       "text": [
        "INFO:gensim.models.ldamodel:topic #12 (0.067): 0.006*kirche + 0.005*regierung + 0.004*kaiser + 0.004*deutschen + 0.003*deutschland + 0.003*staat + 0.003*frankreich + 0.003*nation + 0.002*geistlichen + 0.002*wurden\n"
       ]
      },
      {
       "output_type": "stream",
       "stream": "stderr",
       "text": [
        "INFO:gensim.models.ldamodel:topic #13 (0.067): 0.011*shakespeare + 0.008*publicum + 0.006*lear + 0.005*theater + 0.005*scenen + 0.004*lustspiel + 0.004*stueck + 0.004*stuecke + 0.004*theorie + 0.004*form\n"
       ]
      },
      {
       "output_type": "stream",
       "stream": "stderr",
       "text": [
        "INFO:gensim.models.ldamodel:topic #14 (0.067): 0.015*schiller + 0.008*herzog + 0.005*briefe + 0.005*brief + 0.005*meiner + 0.003*lord + 0.003*ew + 0.003*schoene + 0.003*ihres + 0.003*menschen\n"
       ]
      },
      {
       "output_type": "stream",
       "stream": "stderr",
       "text": [
        "INFO:gensim.models.ldamodel:topic diff=1.408260, rho=0.936175\n"
       ]
      },
      {
       "output_type": "stream",
       "stream": "stderr",
       "text": [
        "INFO:gensim.models.ldamodel:-8.731 per-word bound, 424.9 perplexity estimate based on a held-out corpus of 94 documents with 242263 words\n"
       ]
      },
      {
       "output_type": "stream",
       "stream": "stderr",
       "text": [
        "INFO:gensim.models.ldamodel:PROGRESS: pass 4, at document #94/94\n"
       ]
      },
      {
       "output_type": "stream",
       "stream": "stderr",
       "text": [
        "INFO:gensim.models.ldamodel:topic #0 (0.067): 0.016*faust + 0.015*lessing + 0.015*goethe + 0.005*deutschen + 0.004*dichter + 0.004*dichtung + 0.004*voltaire + 0.004*literatur + 0.003*gedicht + 0.003*will\n"
       ]
      },
      {
       "output_type": "stream",
       "stream": "stderr",
       "text": [
        "INFO:gensim.models.ldamodel:topic #1 (0.067): 0.007*horaz + 0.006*england + 0.005*minister + 0.005*lord + 0.005*regierung + 0.004*belgien + 0.003*englands + 0.003*general + 0.003*frankreich + 0.003*000\n"
       ]
      },
      {
       "output_type": "stream",
       "stream": "stderr",
       "text": [
        "INFO:gensim.models.ldamodel:topic #2 (0.067): 0.016*russland + 0.010*pforte + 0.008*oesterreich + 0.008*russischen + 0.008*england + 0.006*russlands + 0.006*krieg + 0.005*russische + 0.005*frieden + 0.005*kaiserin\n"
       ]
      },
      {
       "output_type": "stream",
       "stream": "stderr",
       "text": [
        "INFO:gensim.models.ldamodel:topic #3 (0.067): 0.006*armee + 0.004*belgien + 0.004*frankreich + 0.003*atlas + 0.003*wurden + 0.003*000 + 0.003*procent + 0.002*roemischen + 0.002*afrika + 0.002*holland\n"
       ]
      },
      {
       "output_type": "stream",
       "stream": "stderr",
       "text": [
        "INFO:gensim.models.ldamodel:topic #4 (0.067): 0.014*auerbach + 0.005*menschen + 0.004*feuer + 0.004*juden + 0.003*deutschen + 0.003*freilich + 0.003*regierung + 0.003*mensch + 0.003*berlin + 0.002*darueber\n"
       ]
      },
      {
       "output_type": "stream",
       "stream": "stderr",
       "text": [
        "INFO:gensim.models.ldamodel:topic #5 (0.067): 0.003*deutschen + 0.003*einzelnen + 0.002*dichter + 0.002*geschichte + 0.002*weniger + 0.002*welt + 0.002*verfasser + 0.002*also + 0.002*gibt + 0.002*besonders\n"
       ]
      },
      {
       "output_type": "stream",
       "stream": "stderr",
       "text": [
        "INFO:gensim.models.ldamodel:topic #6 (0.067): 0.003*augen + 0.003*dichter + 0.003*mutter + 0.003*will + 0.003*frau + 0.003*alte + 0.003*ging + 0.003*welt + 0.003*liebe + 0.003*kind\n"
       ]
      },
      {
       "output_type": "stream",
       "stream": "stderr",
       "text": [
        "INFO:gensim.models.ldamodel:topic #7 (0.067): 0.008*reuter + 0.005*vater + 0.005*kam + 0.004*ward + 0.004*ging + 0.003*hugo + 0.003*jungen + 0.003*berlin + 0.003*bald + 0.003*einige\n"
       ]
      },
      {
       "output_type": "stream",
       "stream": "stderr",
       "text": [
        "INFO:gensim.models.ldamodel:topic #8 (0.067): 0.006*general + 0.005*stadt + 0.004*insel + 0.004*regiment + 0.003*schoensten + 0.003*vollstaendig + 0.003*vater + 0.003*ufer + 0.003*officiere + 0.003*liegt\n"
       ]
      },
      {
       "output_type": "stream",
       "stream": "stderr",
       "text": [
        "INFO:gensim.models.ldamodel:topic #9 (0.067): 0.000*pforte + 0.000*russland + 0.000*oesterreich + 0.000*frankreich + 0.000*krieg + 0.000*kaiser + 0.000*et + 0.000*indem + 0.000*england + 0.000*tuerkei\n"
       ]
      },
      {
       "output_type": "stream",
       "stream": "stderr",
       "text": [
        "INFO:gensim.models.ldamodel:topic #10 (0.067): 0.006*tante + 0.004*musste + 0.003*oesterreich + 0.003*wien + 0.003*hannover + 0.003*stellung + 0.003*bereits + 0.003*regierung + 0.003*musik + 0.003*oper\n"
       ]
      },
      {
       "output_type": "stream",
       "stream": "stderr",
       "text": [
        "INFO:gensim.models.ldamodel:topic #11 (0.067): 0.000*schiller + 0.000*deutschen + 0.000*dichter + 0.000*herzog + 0.000*menschen + 0.000*ihres + 0.000*meiner + 0.000*edler + 0.000*geschichte + 0.000*einige\n"
       ]
      },
      {
       "output_type": "stream",
       "stream": "stderr",
       "text": [
        "INFO:gensim.models.ldamodel:topic #12 (0.067): 0.007*kirche + 0.005*regierung + 0.004*deutschen + 0.004*deutschland + 0.004*kaiser + 0.004*staat + 0.003*nation + 0.003*frankreich + 0.003*sprache + 0.003*wurden\n"
       ]
      },
      {
       "output_type": "stream",
       "stream": "stderr",
       "text": [
        "INFO:gensim.models.ldamodel:topic #13 (0.067): 0.011*shakespeare + 0.008*publicum + 0.006*lear + 0.005*theater + 0.005*scenen + 0.004*lustspiel + 0.004*stueck + 0.004*stuecke + 0.004*theorie + 0.004*form\n"
       ]
      },
      {
       "output_type": "stream",
       "stream": "stderr",
       "text": [
        "INFO:gensim.models.ldamodel:topic #14 (0.067): 0.016*schiller + 0.009*herzog + 0.006*briefe + 0.005*brief + 0.005*meiner + 0.004*ew + 0.004*schoene + 0.003*menschen + 0.003*ihres + 0.003*lord\n"
       ]
      },
      {
       "output_type": "stream",
       "stream": "stderr",
       "text": [
        "INFO:gensim.models.ldamodel:topic diff=0.650804, rho=0.917470\n"
       ]
      },
      {
       "output_type": "stream",
       "stream": "stderr",
       "text": [
        "INFO:gensim.models.ldamodel:-8.697 per-word bound, 415.1 perplexity estimate based on a held-out corpus of 94 documents with 242263 words\n"
       ]
      },
      {
       "output_type": "stream",
       "stream": "stderr",
       "text": [
        "INFO:gensim.models.ldamodel:PROGRESS: pass 5, at document #94/94\n"
       ]
      },
      {
       "output_type": "stream",
       "stream": "stderr",
       "text": [
        "INFO:gensim.models.ldamodel:topic #0 (0.067): 0.016*faust + 0.015*goethe + 0.015*lessing + 0.005*dichtung + 0.005*deutschen + 0.005*dichter + 0.004*literatur + 0.004*gedicht + 0.004*voltaire + 0.003*will\n"
       ]
      },
      {
       "output_type": "stream",
       "stream": "stderr",
       "text": [
        "INFO:gensim.models.ldamodel:topic #1 (0.067): 0.007*horaz + 0.006*england + 0.006*minister + 0.005*lord + 0.005*regierung + 0.004*belgien + 0.003*general + 0.003*englands + 0.003*frankreich + 0.003*sache\n"
       ]
      },
      {
       "output_type": "stream",
       "stream": "stderr",
       "text": [
        "INFO:gensim.models.ldamodel:topic #2 (0.067): 0.015*russland + 0.010*pforte + 0.008*oesterreich + 0.008*england + 0.008*russischen + 0.006*krieg + 0.006*russlands + 0.005*russische + 0.005*frieden + 0.005*tuerkei\n"
       ]
      },
      {
       "output_type": "stream",
       "stream": "stderr",
       "text": [
        "INFO:gensim.models.ldamodel:topic #3 (0.067): 0.006*armee + 0.004*belgien + 0.004*frankreich + 0.004*wurden + 0.004*atlas + 0.003*000 + 0.003*afrika + 0.003*procent + 0.003*roemischen + 0.003*holland\n"
       ]
      },
      {
       "output_type": "stream",
       "stream": "stderr",
       "text": [
        "INFO:gensim.models.ldamodel:topic #4 (0.067): 0.014*auerbach + 0.005*menschen + 0.004*feuer + 0.004*juden + 0.003*deutschen + 0.003*freilich + 0.003*regierung + 0.003*mensch + 0.003*berlin + 0.002*fleisch\n"
       ]
      },
      {
       "output_type": "stream",
       "stream": "stderr",
       "text": [
        "INFO:gensim.models.ldamodel:topic #5 (0.067): 0.003*deutschen + 0.003*einzelnen + 0.003*geschichte + 0.002*dichter + 0.002*weniger + 0.002*welt + 0.002*verfasser + 0.002*gibt + 0.002*besonders + 0.002*also\n"
       ]
      },
      {
       "output_type": "stream",
       "stream": "stderr",
       "text": [
        "INFO:gensim.models.ldamodel:topic #6 (0.067): 0.004*augen + 0.003*mutter + 0.003*frau + 0.003*will + 0.003*dichter + 0.003*ging + 0.003*alte + 0.003*liebe + 0.003*kind + 0.003*weiss\n"
       ]
      },
      {
       "output_type": "stream",
       "stream": "stderr",
       "text": [
        "INFO:gensim.models.ldamodel:topic #7 (0.067): 0.008*reuter + 0.005*kam + 0.005*vater + 0.004*ward + 0.004*ging + 0.004*berlin + 0.004*einige + 0.003*jungen + 0.003*hugo + 0.003*bald\n"
       ]
      },
      {
       "output_type": "stream",
       "stream": "stderr",
       "text": [
        "INFO:gensim.models.ldamodel:topic #8 (0.067): 0.006*stadt + 0.006*insel + 0.006*general + 0.003*regiment + 0.003*schoensten + 0.003*liegt + 0.003*ufer + 0.003*fuss + 0.003*vollstaendig + 0.003*officiere\n"
       ]
      },
      {
       "output_type": "stream",
       "stream": "stderr",
       "text": [
        "INFO:gensim.models.ldamodel:topic #9 (0.067): 0.000*pforte + 0.000*russland + 0.000*oesterreich + 0.000*frankreich + 0.000*krieg + 0.000*kaiser + 0.000*et + 0.000*indem + 0.000*england + 0.000*tuerkei\n"
       ]
      },
      {
       "output_type": "stream",
       "stream": "stderr",
       "text": [
        "INFO:gensim.models.ldamodel:topic #10 (0.067): 0.007*tante + 0.004*musste + 0.003*wien + 0.003*oesterreich + 0.003*hannover + 0.003*stellung + 0.003*bereits + 0.003*musik + 0.003*oper + 0.003*regierung\n"
       ]
      },
      {
       "output_type": "stream",
       "stream": "stderr",
       "text": [
        "INFO:gensim.models.ldamodel:topic #11 (0.067): 0.000*schiller + 0.000*deutschen + 0.000*dichter + 0.000*herzog + 0.000*menschen + 0.000*ihres + 0.000*meiner + 0.000*edler + 0.000*geschichte + 0.000*einige\n"
       ]
      },
      {
       "output_type": "stream",
       "stream": "stderr",
       "text": [
        "INFO:gensim.models.ldamodel:topic #12 (0.067): 0.006*kirche + 0.005*regierung + 0.004*deutschland + 0.004*staat + 0.004*deutschen + 0.004*kaiser + 0.003*sprache + 0.003*nation + 0.003*wurden + 0.003*frankreich\n"
       ]
      },
      {
       "output_type": "stream",
       "stream": "stderr",
       "text": [
        "INFO:gensim.models.ldamodel:topic #13 (0.067): 0.011*shakespeare + 0.008*publicum + 0.006*lear + 0.005*theater + 0.005*scenen + 0.004*lustspiel + 0.004*stueck + 0.004*stuecke + 0.004*theorie + 0.004*form\n"
       ]
      },
      {
       "output_type": "stream",
       "stream": "stderr",
       "text": [
        "INFO:gensim.models.ldamodel:topic #14 (0.067): 0.017*schiller + 0.009*herzog + 0.006*briefe + 0.006*brief + 0.005*meiner + 0.004*ew + 0.004*schoene + 0.004*menschen + 0.004*ihres + 0.003*lord\n"
       ]
      },
      {
       "output_type": "stream",
       "stream": "stderr",
       "text": [
        "INFO:gensim.models.ldamodel:topic diff=0.376709, rho=0.899843\n"
       ]
      },
      {
       "output_type": "stream",
       "stream": "stderr",
       "text": [
        "INFO:gensim.models.ldamodel:-8.677 per-word bound, 409.2 perplexity estimate based on a held-out corpus of 94 documents with 242263 words\n"
       ]
      },
      {
       "output_type": "stream",
       "stream": "stderr",
       "text": [
        "INFO:gensim.models.ldamodel:PROGRESS: pass 6, at document #94/94\n"
       ]
      },
      {
       "output_type": "stream",
       "stream": "stderr",
       "text": [
        "INFO:gensim.models.ldamodel:topic #0 (0.067): 0.016*faust + 0.015*goethe + 0.014*lessing + 0.006*dichtung + 0.006*dichter + 0.005*deutschen + 0.005*literatur + 0.004*gedicht + 0.004*voltaire + 0.003*will\n"
       ]
      },
      {
       "output_type": "stream",
       "stream": "stderr",
       "text": [
        "INFO:gensim.models.ldamodel:topic #1 (0.067): 0.007*horaz + 0.006*england + 0.006*minister + 0.005*lord + 0.005*regierung + 0.004*belgien + 0.003*general + 0.003*englands + 0.003*frankreich + 0.003*sache\n"
       ]
      },
      {
       "output_type": "stream",
       "stream": "stderr",
       "text": [
        "INFO:gensim.models.ldamodel:topic #2 (0.067): 0.015*russland + 0.010*pforte + 0.008*oesterreich + 0.008*england + 0.008*russischen + 0.006*krieg + 0.005*russlands + 0.005*russische + 0.005*frieden + 0.005*tuerkei\n"
       ]
      },
      {
       "output_type": "stream",
       "stream": "stderr",
       "text": [
        "INFO:gensim.models.ldamodel:topic #3 (0.067): 0.006*armee + 0.004*belgien + 0.004*wurden + 0.004*afrika + 0.004*frankreich + 0.004*atlas + 0.003*000 + 0.003*roemischen + 0.003*procent + 0.003*holland\n"
       ]
      },
      {
       "output_type": "stream",
       "stream": "stderr",
       "text": [
        "INFO:gensim.models.ldamodel:topic #4 (0.067): 0.015*auerbach + 0.005*menschen + 0.004*feuer + 0.004*juden + 0.003*deutschen + 0.003*freilich + 0.003*regierung + 0.003*mensch + 0.003*fleisch + 0.002*berlin\n"
       ]
      },
      {
       "output_type": "stream",
       "stream": "stderr",
       "text": [
        "INFO:gensim.models.ldamodel:topic #5 (0.067): 0.003*deutschen + 0.003*einzelnen + 0.003*geschichte + 0.002*dichter + 0.002*weniger + 0.002*welt + 0.002*verfasser + 0.002*gibt + 0.002*besonders + 0.002*zugleich\n"
       ]
      },
      {
       "output_type": "stream",
       "stream": "stderr",
       "text": [
        "INFO:gensim.models.ldamodel:topic #6 (0.067): 0.004*augen + 0.003*mutter + 0.003*frau + 0.003*will + 0.003*liebe + 0.003*ging + 0.003*alte + 0.003*dichter + 0.003*kind + 0.003*weiss\n"
       ]
      },
      {
       "output_type": "stream",
       "stream": "stderr",
       "text": [
        "INFO:gensim.models.ldamodel:topic #7 (0.067): 0.008*reuter + 0.005*kam + 0.005*vater + 0.005*ward + 0.004*berlin + 0.004*einige + 0.004*ging + 0.004*bismarck + 0.004*jungen + 0.003*hugo\n"
       ]
      },
      {
       "output_type": "stream",
       "stream": "stderr",
       "text": [
        "INFO:gensim.models.ldamodel:topic #8 (0.067): 0.008*insel + 0.007*stadt + 0.005*general + 0.004*fuss + 0.003*liegt + 0.003*regiment + 0.003*ufer + 0.003*schoensten + 0.003*ueberall + 0.003*kleinen\n"
       ]
      },
      {
       "output_type": "stream",
       "stream": "stderr",
       "text": [
        "INFO:gensim.models.ldamodel:topic #9 (0.067): 0.000*pforte + 0.000*russland + 0.000*oesterreich + 0.000*frankreich + 0.000*krieg + 0.000*kaiser + 0.000*et + 0.000*indem + 0.000*england + 0.000*tuerkei\n"
       ]
      },
      {
       "output_type": "stream",
       "stream": "stderr",
       "text": [
        "INFO:gensim.models.ldamodel:topic #10 (0.067): 0.007*tante + 0.004*musste + 0.003*wien + 0.003*oesterreich + 0.003*hannover + 0.003*stellung + 0.003*bereits + 0.003*musik + 0.003*oper + 0.003*regierung\n"
       ]
      },
      {
       "output_type": "stream",
       "stream": "stderr",
       "text": [
        "INFO:gensim.models.ldamodel:topic #11 (0.067): 0.000*schiller + 0.000*deutschen + 0.000*dichter + 0.000*herzog + 0.000*menschen + 0.000*ihres + 0.000*meiner + 0.000*edler + 0.000*geschichte + 0.000*einige\n"
       ]
      },
      {
       "output_type": "stream",
       "stream": "stderr",
       "text": [
        "INFO:gensim.models.ldamodel:topic #12 (0.067): 0.006*kirche + 0.005*regierung + 0.004*deutschland + 0.004*staat + 0.004*deutschen + 0.004*kaiser + 0.003*englischen + 0.003*sprache + 0.003*wurden + 0.003*nation\n"
       ]
      },
      {
       "output_type": "stream",
       "stream": "stderr",
       "text": [
        "INFO:gensim.models.ldamodel:topic #13 (0.067): 0.011*shakespeare + 0.008*publicum + 0.006*lear + 0.005*theater + 0.005*scenen + 0.004*lustspiel + 0.004*stueck + 0.004*stuecke + 0.004*theorie + 0.004*form\n"
       ]
      },
      {
       "output_type": "stream",
       "stream": "stderr",
       "text": [
        "INFO:gensim.models.ldamodel:topic #14 (0.067): 0.018*schiller + 0.010*herzog + 0.007*briefe + 0.006*brief + 0.006*meiner + 0.004*ew + 0.004*schoene + 0.004*menschen + 0.004*ihres + 0.003*geist\n"
       ]
      },
      {
       "output_type": "stream",
       "stream": "stderr",
       "text": [
        "INFO:gensim.models.ldamodel:topic diff=0.246047, rho=0.883194\n"
       ]
      },
      {
       "output_type": "stream",
       "stream": "stderr",
       "text": [
        "INFO:gensim.models.ldamodel:-8.662 per-word bound, 405.0 perplexity estimate based on a held-out corpus of 94 documents with 242263 words\n"
       ]
      },
      {
       "output_type": "stream",
       "stream": "stderr",
       "text": [
        "INFO:gensim.models.ldamodel:PROGRESS: pass 7, at document #94/94\n"
       ]
      },
      {
       "output_type": "stream",
       "stream": "stderr",
       "text": [
        "INFO:gensim.models.ldamodel:topic #0 (0.067): 0.015*goethe + 0.015*faust + 0.013*lessing + 0.007*dichtung + 0.006*dichter + 0.005*deutschen + 0.005*literatur + 0.004*gedicht + 0.003*will + 0.003*voltaire\n"
       ]
      },
      {
       "output_type": "stream",
       "stream": "stderr",
       "text": [
        "INFO:gensim.models.ldamodel:topic #1 (0.067): 0.007*horaz + 0.006*england + 0.006*minister + 0.005*lord + 0.005*regierung + 0.004*belgien + 0.004*general + 0.003*englands + 0.003*ali + 0.003*sache\n"
       ]
      },
      {
       "output_type": "stream",
       "stream": "stderr",
       "text": [
        "INFO:gensim.models.ldamodel:topic #2 (0.067): 0.015*russland + 0.010*pforte + 0.008*oesterreich + 0.008*england + 0.008*russischen + 0.006*krieg + 0.005*russlands + 0.005*russische + 0.005*frieden + 0.005*tuerkei\n"
       ]
      },
      {
       "output_type": "stream",
       "stream": "stderr",
       "text": [
        "INFO:gensim.models.ldamodel:topic #3 (0.067): 0.007*armee + 0.004*belgien + 0.004*afrika + 0.004*wurden + 0.004*roemischen + 0.004*frankreich + 0.004*atlas + 0.003*000 + 0.003*procent + 0.003*provinz\n"
       ]
      },
      {
       "output_type": "stream",
       "stream": "stderr",
       "text": [
        "INFO:gensim.models.ldamodel:topic #4 (0.067): 0.015*auerbach + 0.005*menschen + 0.004*feuer + 0.004*juden + 0.003*deutschen + 0.003*freilich + 0.003*fleisch + 0.003*mensch + 0.003*regierung + 0.002*berlin\n"
       ]
      },
      {
       "output_type": "stream",
       "stream": "stderr",
       "text": [
        "INFO:gensim.models.ldamodel:topic #5 (0.067): 0.003*deutschen + 0.003*einzelnen + 0.003*geschichte + 0.002*dichter + 0.002*weniger + 0.002*welt + 0.002*verfasser + 0.002*gibt + 0.002*besonders + 0.002*zugleich\n"
       ]
      },
      {
       "output_type": "stream",
       "stream": "stderr",
       "text": [
        "INFO:gensim.models.ldamodel:topic #6 (0.067): 0.004*augen + 0.003*mutter + 0.003*frau + 0.003*will + 0.003*liebe + 0.003*ging + 0.003*alte + 0.003*kind + 0.003*weiss + 0.003*wollte\n"
       ]
      },
      {
       "output_type": "stream",
       "stream": "stderr",
       "text": [
        "INFO:gensim.models.ldamodel:topic #7 (0.067): 0.008*reuter + 0.005*kam + 0.005*vater + 0.005*ward + 0.004*berlin + 0.004*einige + 0.004*ging + 0.004*bismarck + 0.004*jungen + 0.003*hugo\n"
       ]
      },
      {
       "output_type": "stream",
       "stream": "stderr",
       "text": [
        "INFO:gensim.models.ldamodel:topic #8 (0.067): 0.010*insel + 0.007*stadt + 0.005*general + 0.004*fuss + 0.004*liegt + 0.003*ufer + 0.003*regiment + 0.003*ueberall + 0.003*schoensten + 0.003*inseln\n"
       ]
      },
      {
       "output_type": "stream",
       "stream": "stderr",
       "text": [
        "INFO:gensim.models.ldamodel:topic #9 (0.067): 0.000*pforte + 0.000*russland + 0.000*oesterreich + 0.000*frankreich + 0.000*krieg + 0.000*kaiser + 0.000*et + 0.000*indem + 0.000*england + 0.000*tuerkei\n"
       ]
      },
      {
       "output_type": "stream",
       "stream": "stderr",
       "text": [
        "INFO:gensim.models.ldamodel:topic #10 (0.067): 0.007*tante + 0.004*musste + 0.004*wien + 0.003*oesterreich + 0.003*hannover + 0.003*stellung + 0.003*bereits + 0.003*musik + 0.003*oper + 0.003*regierung\n"
       ]
      },
      {
       "output_type": "stream",
       "stream": "stderr",
       "text": [
        "INFO:gensim.models.ldamodel:topic #11 (0.067): 0.000*schiller + 0.000*deutschen + 0.000*dichter + 0.000*herzog + 0.000*menschen + 0.000*ihres + 0.000*meiner + 0.000*edler + 0.000*geschichte + 0.000*einige\n"
       ]
      },
      {
       "output_type": "stream",
       "stream": "stderr",
       "text": [
        "INFO:gensim.models.ldamodel:topic #12 (0.067): 0.006*kirche + 0.005*regierung + 0.004*deutschland + 0.004*staat + 0.004*deutschen + 0.003*kaiser + 0.003*england + 0.003*englischen + 0.003*wurden + 0.003*sprache\n"
       ]
      },
      {
       "output_type": "stream",
       "stream": "stderr",
       "text": [
        "INFO:gensim.models.ldamodel:topic #13 (0.067): 0.011*shakespeare + 0.008*publicum + 0.006*lear + 0.005*theater + 0.005*scenen + 0.004*lustspiel + 0.004*stueck + 0.004*stuecke + 0.004*theorie + 0.004*form\n"
       ]
      },
      {
       "output_type": "stream",
       "stream": "stderr",
       "text": [
        "INFO:gensim.models.ldamodel:topic #14 (0.067): 0.019*schiller + 0.010*herzog + 0.007*briefe + 0.006*brief + 0.006*meiner + 0.004*ew + 0.004*schoene + 0.004*menschen + 0.004*ihres + 0.003*geist\n"
       ]
      },
      {
       "output_type": "stream",
       "stream": "stderr",
       "text": [
        "INFO:gensim.models.ldamodel:topic diff=0.181233, rho=0.867436\n"
       ]
      },
      {
       "output_type": "stream",
       "stream": "stderr",
       "text": [
        "INFO:gensim.models.ldamodel:-8.651 per-word bound, 401.9 perplexity estimate based on a held-out corpus of 94 documents with 242263 words\n"
       ]
      },
      {
       "output_type": "stream",
       "stream": "stderr",
       "text": [
        "INFO:gensim.models.ldamodel:PROGRESS: pass 8, at document #94/94\n"
       ]
      },
      {
       "output_type": "stream",
       "stream": "stderr",
       "text": [
        "INFO:gensim.models.ldamodel:topic #0 (0.067): 0.015*goethe + 0.015*faust + 0.013*lessing + 0.007*dichter + 0.007*dichtung + 0.005*literatur + 0.005*deutschen + 0.004*gedicht + 0.003*will + 0.003*voltaire\n"
       ]
      },
      {
       "output_type": "stream",
       "stream": "stderr",
       "text": [
        "INFO:gensim.models.ldamodel:topic #1 (0.067): 0.007*horaz + 0.006*england + 0.006*minister + 0.006*lord + 0.005*regierung + 0.004*belgien + 0.004*general + 0.004*englands + 0.004*ali + 0.004*sache\n"
       ]
      },
      {
       "output_type": "stream",
       "stream": "stderr",
       "text": [
        "INFO:gensim.models.ldamodel:topic #2 (0.067): 0.014*russland + 0.009*pforte + 0.008*oesterreich + 0.008*england + 0.008*russischen + 0.006*krieg + 0.005*russlands + 0.005*frieden + 0.005*russische + 0.005*tuerkei\n"
       ]
      },
      {
       "output_type": "stream",
       "stream": "stderr",
       "text": [
        "INFO:gensim.models.ldamodel:topic #3 (0.067): 0.007*armee + 0.004*belgien + 0.004*afrika + 0.004*roemischen + 0.004*wurden + 0.004*frankreich + 0.004*000 + 0.003*atlas + 0.003*procent + 0.003*provinz\n"
       ]
      },
      {
       "output_type": "stream",
       "stream": "stderr",
       "text": [
        "INFO:gensim.models.ldamodel:topic #4 (0.067): 0.015*auerbach + 0.005*menschen + 0.004*feuer + 0.004*juden + 0.003*deutschen + 0.003*fleisch + 0.003*mensch + 0.003*freilich + 0.003*regierung + 0.003*thiere\n"
       ]
      },
      {
       "output_type": "stream",
       "stream": "stderr",
       "text": [
        "INFO:gensim.models.ldamodel:topic #5 (0.067): 0.003*deutschen + 0.003*einzelnen + 0.003*geschichte + 0.002*dichter + 0.002*weniger + 0.002*welt + 0.002*verfasser + 0.002*gibt + 0.002*besonders + 0.002*natur\n"
       ]
      },
      {
       "output_type": "stream",
       "stream": "stderr",
       "text": [
        "INFO:gensim.models.ldamodel:topic #6 (0.067): 0.004*augen + 0.003*mutter + 0.003*frau + 0.003*will + 0.003*liebe + 0.003*ging + 0.003*kind + 0.003*alte + 0.003*weiss + 0.003*wollte\n"
       ]
      },
      {
       "output_type": "stream",
       "stream": "stderr",
       "text": [
        "INFO:gensim.models.ldamodel:topic #7 (0.067): 0.008*reuter + 0.005*vater + 0.005*kam + 0.005*ward + 0.005*berlin + 0.004*einige + 0.004*bismarck + 0.004*ging + 0.004*wurden + 0.004*jungen\n"
       ]
      },
      {
       "output_type": "stream",
       "stream": "stderr",
       "text": [
        "INFO:gensim.models.ldamodel:topic #8 (0.067): 0.010*insel + 0.007*stadt + 0.005*general + 0.005*fuss + 0.004*liegt + 0.003*ueberall + 0.003*inseln + 0.003*ufer + 0.003*regiment + 0.003*schoensten\n"
       ]
      },
      {
       "output_type": "stream",
       "stream": "stderr",
       "text": [
        "INFO:gensim.models.ldamodel:topic #9 (0.067): 0.000*pforte + 0.000*russland + 0.000*oesterreich + 0.000*frankreich + 0.000*krieg + 0.000*kaiser + 0.000*et + 0.000*indem + 0.000*england + 0.000*tuerkei\n"
       ]
      },
      {
       "output_type": "stream",
       "stream": "stderr",
       "text": [
        "INFO:gensim.models.ldamodel:topic #10 (0.067): 0.007*tante + 0.004*musste + 0.004*wien + 0.003*oesterreich + 0.003*hannover + 0.003*stellung + 0.003*bereits + 0.003*musik + 0.003*oper + 0.003*regierung\n"
       ]
      },
      {
       "output_type": "stream",
       "stream": "stderr",
       "text": [
        "INFO:gensim.models.ldamodel:topic #11 (0.067): 0.000*schiller + 0.000*deutschen + 0.000*dichter + 0.000*herzog + 0.000*menschen + 0.000*ihres + 0.000*meiner + 0.000*edler + 0.000*geschichte + 0.000*einige\n"
       ]
      },
      {
       "output_type": "stream",
       "stream": "stderr",
       "text": [
        "INFO:gensim.models.ldamodel:topic #12 (0.067): 0.006*kirche + 0.005*regierung + 0.004*deutschland + 0.004*staat + 0.004*deutschen + 0.003*kaiser + 0.003*england + 0.003*englischen + 0.003*wurden + 0.003*freiheit\n"
       ]
      },
      {
       "output_type": "stream",
       "stream": "stderr",
       "text": [
        "INFO:gensim.models.ldamodel:topic #13 (0.067): 0.011*shakespeare + 0.008*publicum + 0.006*lear + 0.005*theater + 0.005*scenen + 0.004*stueck + 0.004*stuecke + 0.004*lustspiel + 0.004*theorie + 0.004*tod\n"
       ]
      },
      {
       "output_type": "stream",
       "stream": "stderr",
       "text": [
        "INFO:gensim.models.ldamodel:topic #14 (0.067): 0.019*schiller + 0.010*herzog + 0.007*briefe + 0.006*brief + 0.006*meiner + 0.004*ew + 0.004*schoene + 0.004*menschen + 0.004*ihres + 0.003*geist\n"
       ]
      },
      {
       "output_type": "stream",
       "stream": "stderr",
       "text": [
        "INFO:gensim.models.ldamodel:topic diff=0.143464, rho=0.852493\n"
       ]
      },
      {
       "output_type": "stream",
       "stream": "stderr",
       "text": [
        "INFO:gensim.models.ldamodel:-8.642 per-word bound, 399.4 perplexity estimate based on a held-out corpus of 94 documents with 242263 words\n"
       ]
      },
      {
       "output_type": "stream",
       "stream": "stderr",
       "text": [
        "INFO:gensim.models.ldamodel:PROGRESS: pass 9, at document #94/94\n"
       ]
      },
      {
       "output_type": "stream",
       "stream": "stderr",
       "text": [
        "INFO:gensim.models.ldamodel:topic #0 (0.067): 0.015*goethe + 0.014*faust + 0.013*lessing + 0.008*dichter + 0.007*dichtung + 0.005*literatur + 0.005*deutschen + 0.004*gedicht + 0.004*will + 0.003*voltaire\n"
       ]
      },
      {
       "output_type": "stream",
       "stream": "stderr",
       "text": [
        "INFO:gensim.models.ldamodel:topic #1 (0.067): 0.008*horaz + 0.007*minister + 0.006*england + 0.006*lord + 0.005*regierung + 0.004*belgien + 0.004*general + 0.004*ali + 0.004*englands + 0.004*sache\n"
       ]
      },
      {
       "output_type": "stream",
       "stream": "stderr",
       "text": [
        "INFO:gensim.models.ldamodel:topic #2 (0.067): 0.014*russland + 0.009*pforte + 0.008*oesterreich + 0.008*england + 0.007*russischen + 0.006*krieg + 0.005*russlands + 0.005*frieden + 0.005*russische + 0.005*kaiserin\n"
       ]
      },
      {
       "output_type": "stream",
       "stream": "stderr",
       "text": [
        "INFO:gensim.models.ldamodel:topic #3 (0.067): 0.007*armee + 0.005*roemischen + 0.004*belgien + 0.004*afrika + 0.004*wurden + 0.004*000 + 0.003*frankreich + 0.003*atlas + 0.003*provinz + 0.003*procent\n"
       ]
      },
      {
       "output_type": "stream",
       "stream": "stderr",
       "text": [
        "INFO:gensim.models.ldamodel:topic #4 (0.067): 0.015*auerbach + 0.005*menschen + 0.004*feuer + 0.004*juden + 0.003*deutschen + 0.003*fleisch + 0.003*mensch + 0.003*thiere + 0.003*freilich + 0.003*regierung\n"
       ]
      },
      {
       "output_type": "stream",
       "stream": "stderr",
       "text": [
        "INFO:gensim.models.ldamodel:topic #5 (0.067): 0.003*deutschen + 0.003*einzelnen + 0.003*geschichte + 0.002*dichter + 0.002*weniger + 0.002*welt + 0.002*verfasser + 0.002*besonders + 0.002*gibt + 0.002*natur\n"
       ]
      },
      {
       "output_type": "stream",
       "stream": "stderr",
       "text": [
        "INFO:gensim.models.ldamodel:topic #6 (0.067): 0.004*augen + 0.004*frau + 0.004*mutter + 0.003*will + 0.003*liebe + 0.003*ging + 0.003*kind + 0.003*weiss + 0.003*alte + 0.003*wollte\n"
       ]
      },
      {
       "output_type": "stream",
       "stream": "stderr",
       "text": [
        "INFO:gensim.models.ldamodel:topic #7 (0.067): 0.008*reuter + 0.005*vater + 0.005*ward + 0.005*kam + 0.005*berlin + 0.004*einige + 0.004*bismarck + 0.004*wurden + 0.004*ging + 0.004*jungen\n"
       ]
      },
      {
       "output_type": "stream",
       "stream": "stderr",
       "text": [
        "INFO:gensim.models.ldamodel:topic #8 (0.067): 0.011*insel + 0.007*stadt + 0.005*fuss + 0.005*general + 0.004*liegt + 0.003*inseln + 0.003*ueberall + 0.003*ufer + 0.003*regiment + 0.003*kleinen\n"
       ]
      },
      {
       "output_type": "stream",
       "stream": "stderr",
       "text": [
        "INFO:gensim.models.ldamodel:topic #9 (0.067): 0.000*pforte + 0.000*russland + 0.000*oesterreich + 0.000*frankreich + 0.000*krieg + 0.000*kaiser + 0.000*et + 0.000*indem + 0.000*england + 0.000*tuerkei\n"
       ]
      },
      {
       "output_type": "stream",
       "stream": "stderr",
       "text": [
        "INFO:gensim.models.ldamodel:topic #10 (0.067): 0.007*tante + 0.004*musste + 0.004*wien + 0.003*oesterreich + 0.003*hannover + 0.003*stellung + 0.003*bereits + 0.003*musik + 0.003*oper + 0.003*regierung\n"
       ]
      },
      {
       "output_type": "stream",
       "stream": "stderr",
       "text": [
        "INFO:gensim.models.ldamodel:topic #11 (0.067): 0.000*schiller + 0.000*deutschen + 0.000*dichter + 0.000*herzog + 0.000*menschen + 0.000*ihres + 0.000*meiner + 0.000*edler + 0.000*geschichte + 0.000*einige\n"
       ]
      },
      {
       "output_type": "stream",
       "stream": "stderr",
       "text": [
        "INFO:gensim.models.ldamodel:topic #12 (0.067): 0.006*kirche + 0.005*regierung + 0.004*deutschland + 0.004*staat + 0.004*deutschen + 0.003*kaiser + 0.003*england + 0.003*englischen + 0.003*freiheit + 0.003*wurden\n"
       ]
      },
      {
       "output_type": "stream",
       "stream": "stderr",
       "text": [
        "INFO:gensim.models.ldamodel:topic #13 (0.067): 0.011*shakespeare + 0.008*publicum + 0.006*lear + 0.005*theater + 0.005*scenen + 0.004*stuecke + 0.004*stueck + 0.004*theorie + 0.004*lustspiel + 0.004*tod\n"
       ]
      },
      {
       "output_type": "stream",
       "stream": "stderr",
       "text": [
        "INFO:gensim.models.ldamodel:topic #14 (0.067): 0.019*schiller + 0.010*herzog + 0.007*briefe + 0.006*brief + 0.006*meiner + 0.004*ew + 0.004*schoene + 0.004*menschen + 0.004*ihres + 0.003*geist\n"
       ]
      },
      {
       "output_type": "stream",
       "stream": "stderr",
       "text": [
        "INFO:gensim.models.ldamodel:topic diff=0.116816, rho=0.838296\n"
       ]
      }
     ],
     "prompt_number": 11
    },
    {
     "cell_type": "heading",
     "level": 2,
     "metadata": {},
     "source": [
      "Printing Topics"
     ]
    },
    {
     "cell_type": "markdown",
     "metadata": {},
     "source": [
      "Gensim provides a simple interface for viewing the top words of the computed topics:"
     ]
    },
    {
     "cell_type": "code",
     "collapsed": false,
     "input": [
      "topics = lda.show_topics(formatted=False, num_topics=-1)\n",
      "for idx,topic in enumerate(topics):\n",
      "    print(\"TOPIC %d\" % idx, ' '.join([t for _,t in topic]));"
     ],
     "language": "python",
     "metadata": {},
     "outputs": [
      {
       "output_type": "stream",
       "stream": "stdout",
       "text": [
        "TOPIC 0 goethe faust lessing dichter dichtung literatur deutschen gedicht will voltaire\n",
        "TOPIC 1 horaz minister england lord regierung belgien general ali englands sache\n",
        "TOPIC 2 russland pforte oesterreich england russischen krieg russlands frieden russische kaiserin\n",
        "TOPIC 3 armee roemischen belgien afrika wurden 000 frankreich atlas provinz procent\n",
        "TOPIC 4 auerbach menschen feuer juden deutschen fleisch mensch thiere freilich regierung\n",
        "TOPIC 5 deutschen einzelnen geschichte dichter weniger welt verfasser besonders gibt natur\n",
        "TOPIC 6 augen frau mutter will liebe ging kind weiss alte wollte\n",
        "TOPIC 7 reuter vater ward kam berlin einige bismarck wurden ging jungen\n",
        "TOPIC 8 insel stadt fuss general liegt inseln ueberall ufer regiment kleinen\n",
        "TOPIC 9 pforte russland oesterreich frankreich krieg kaiser et indem england tuerkei\n",
        "TOPIC 10 tante musste wien oesterreich hannover stellung bereits musik oper regierung\n",
        "TOPIC 11 schiller deutschen dichter herzog menschen ihres meiner edler geschichte einige\n",
        "TOPIC 12 kirche regierung deutschland staat deutschen kaiser england englischen freiheit wurden\n",
        "TOPIC 13 shakespeare publicum lear theater scenen stuecke stueck theorie lustspiel tod\n",
        "TOPIC 14 schiller herzog briefe brief meiner ew schoene menschen ihres geist\n"
       ]
      }
     ],
     "prompt_number": 12
    },
    {
     "cell_type": "markdown",
     "metadata": {},
     "source": [
      "There are a few things we can tune in order to get higher quality topics.\n",
      "- Ensure the incoming corpus is of high quality.\n",
      "- Improve tokenization\n",
      "- Normalize word forms--currently, different inflected forms of the same word will be treated separately!\n",
      "- Tweak model parameters!  This means LDA itself as well as for dictionary pruning, etc.."
     ]
    },
    {
     "cell_type": "heading",
     "level": 2,
     "metadata": {},
     "source": [
      "Getting Document Topic Mixtures "
     ]
    },
    {
     "cell_type": "markdown",
     "metadata": {},
     "source": [
      "Once training is complete, we can also infer the mixture of topics for each document under our model.  \n",
      "\n",
      "The `model` object create by gensim lets us look at the topic/word distributions with the `gensim.models.LdaModel.show_topics()` function as I show above, but what we really want is to see the topic mixture per document. This information isn't readily available on the `model` object and needs to be computed.\n",
      "\n",
      "We need to infer the topic proportions per document in the corpus. The Gensim API has a standard way of doing this that re-runs inference on documents using a just-trained model. We can use this code (as simple as it is) to compute the topic proportions per document for other topic models as it is a standard interface. \n",
      "\n",
      "This is just a long way of saying the code below takes a bit of time to run, but is the Gensim-way-of-doing-things.\n",
      "\n",
      "> *Ben's Note:* Gensim's `LdaModel` is actually a **transformation** (base class [`gensim.interface.TransformationABC`](http://radimrehurek.com/gensim/interfaces.html#gensim.interfaces.TransformationABC)), an *\"object which accepts a sparse document via the dictionary notation []\"* and returns a list of topics whose weight in the document is above a specified threshold."
     ]
    },
    {
     "cell_type": "code",
     "collapsed": false,
     "input": [
      "lda[corpus[0]]"
     ],
     "language": "python",
     "metadata": {},
     "outputs": [
      {
       "metadata": {},
       "output_type": "pyout",
       "prompt_number": 13,
       "text": [
        "[(6, 0.49278228718768935), (7, 0.50667705885579051)]"
       ]
      }
     ],
     "prompt_number": 13
    },
    {
     "cell_type": "markdown",
     "metadata": {},
     "source": [
      "We now compute and store the topic mixture for each document:"
     ]
    },
    {
     "cell_type": "code",
     "collapsed": false,
     "input": [
      "topic_mixtures = [];\n",
      "for doc in corpus:\n",
      "    topic_mixtures.append(lda[doc]);"
     ],
     "language": "python",
     "metadata": {},
     "outputs": [],
     "prompt_number": 14
    },
    {
     "cell_type": "heading",
     "level": 1,
     "metadata": {},
     "source": [
      "Visualizing Topic Models"
     ]
    },
    {
     "cell_type": "markdown",
     "metadata": {},
     "source": [
      "The third section of this notebook demonstrates how we can visualize topic *prominence* over time. To do this we need to compute a measure of prominence over time. The most popular measure is the number of tokens per topic per time period / the total number of tokens per time period. \n",
      "\n",
      "Because token-topic assignments aren't readily available, that measure is a bit difficult to compute. What we *do* have is topic proportion per document AND the length of the document. So what I will be computing instead is a weighted topic proprotion per document that is simply the topic proportion multiplied by the length (in tokens after stopword removal and filter). I use this weighted topic proprotion in the place of number of tokens per topic. We should continue to explore other measures of topic prominence."
     ]
    },
    {
     "cell_type": "code",
     "collapsed": false,
     "input": [
      "num_years = len(chapters_per_year);\n",
      "\n",
      "topic_proportions = np.zeros((num_topics, len(chapters_per_year)));\n",
      "props = pd.DataFrame(chapters_per_year)\n",
      "\n",
      "# compute average topic weights per year\n",
      "for doc_idx, mixture in enumerate(topic_mixtures):\n",
      "    mixture = gensim.matutils.sparse2full(mixture, num_topics);\n",
      "    metadata = corpus.jsonIterator[doc_idx][\"metadata\"];\n",
      "    year = metadata[\"year\"];\n",
      "    yearIndex = chapters_per_year.index.get_loc(year);\n",
      "    topic_proportions[:,yearIndex] += mixture;\n",
      "topic_proportions /= chapters_per_year\n",
      "\n",
      "# plot a few topics over time\n",
      "for k in range(5):\n",
      "    keywords = ' '.join([w for _,w in topics[k][:5]]);\n",
      "    pd.Series(topic_proportions[k,:]).plot(label=keywords);\n",
      "plt.legend()"
     ],
     "language": "python",
     "metadata": {},
     "outputs": [
      {
       "metadata": {},
       "output_type": "pyout",
       "prompt_number": 15,
       "text": [
        "<matplotlib.legend.Legend at 0x9028c18>"
       ]
      },
      {
       "metadata": {},
       "output_type": "display_data",
       "png": "[encoded data removed]",
       "text": [
        "<matplotlib.figure.Figure at 0x9028e80>"
       ]
      }
     ],
     "prompt_number": 15
    }
   ],
   "metadata": {}
  }
 ]
}